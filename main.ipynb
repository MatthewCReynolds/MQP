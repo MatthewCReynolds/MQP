{
 "cells": [
  {
   "attachments": {},
   "cell_type": "markdown",
   "metadata": {},
   "source": [
    "<large><b>The RoBERTA Model</b></large>"
   ]
  },
  {
   "cell_type": "code",
   "execution_count": 2,
   "metadata": {},
   "outputs": [
    {
     "name": "stdout",
     "output_type": "stream",
     "text": [
      "All required packages are already installed.\n"
     ]
    }
   ],
   "source": [
    "import importlib\n",
    "\n",
    "def install_packages():\n",
    "    packages = []\n",
    "    if not importlib.util.find_spec(\"torch\"):\n",
    "        packages.append(\"torch\")\n",
    "    if not importlib.util.find_spec(\"tensorflow\"):\n",
    "        packages.append(\"tensorflow>=2.0\")\n",
    "\n",
    "    if packages:\n",
    "        try:\n",
    "            import pip\n",
    "            pip.main(['install'] + packages)\n",
    "        except AttributeError:\n",
    "            import subprocess\n",
    "            subprocess.call(['pip', 'install'] + packages)\n",
    "\n",
    "def install_transformers():\n",
    "    try:\n",
    "        importlib.import_module('transformers')\n",
    "        print(\"Transformers library is already installed.\")\n",
    "    except ImportError:\n",
    "        print(\"Installing Transformers library...\")\n",
    "        try:\n",
    "            import pip\n",
    "            pip.main(['install', 'transformers'])\n",
    "        except AttributeError:\n",
    "            import subprocess\n",
    "            subprocess.call(['pip', 'install', 'transformers'])\n",
    "        print(\"Transformers library installed successfully.\")\n",
    "\n",
    "# Check if packages are installed\n",
    "try:\n",
    "    importlib.import_module('transformers')\n",
    "    importlib.import_module('torch')\n",
    "    importlib.import_module('tensorflow')\n",
    "    print(\"All required packages are already installed.\")\n",
    "except ImportError:\n",
    "    print(\"Required packages not found. Please install TensorFlow 2.0 or PyTorch.\")\n",
    "    print(\"For TensorFlow installation instructions, visit: https://www.tensorflow.org/install/\")\n",
    "    print(\"For PyTorch installation instructions, visit: https://pytorch.org/\")\n",
    "\n",
    "# Rest of your code\n"
   ]
  },
  {
   "cell_type": "code",
   "execution_count": 3,
   "metadata": {},
   "outputs": [
    {
     "data": {
      "text/plain": [
       "[{'score': 0.07961740344762802,\n",
       "  'token': 23182,\n",
       "  'token_str': 'professional',\n",
       "  'sequence': \"Hello I'm a professional model.\"},\n",
       " {'score': 0.06602881848812103,\n",
       "  'token': 2663,\n",
       "  'token_str': 'top',\n",
       "  'sequence': \"Hello I'm a top model.\"},\n",
       " {'score': 0.04274148494005203,\n",
       "  'token': 72082,\n",
       "  'token_str': 'nude',\n",
       "  'sequence': \"Hello I'm a nude model.\"},\n",
       " {'score': 0.031116599217057228,\n",
       "  'token': 27150,\n",
       "  'token_str': 'young',\n",
       "  'sequence': \"Hello I'm a young model.\"},\n",
       " {'score': 0.028357071802020073,\n",
       "  'token': 2773,\n",
       "  'token_str': 'real',\n",
       "  'sequence': \"Hello I'm a real model.\"}]"
      ]
     },
     "execution_count": 3,
     "metadata": {},
     "output_type": "execute_result"
    }
   ],
   "source": [
    "from transformers import pipeline\n",
    "import torch\n",
    "import tensorflow as tf\n",
    "\n",
    "unmasker = pipeline('fill-mask', model='xlm-roberta-large')\n",
    "unmasker(\"Hello I'm a <mask> model.\")"
   ]
  }
 ],
 "metadata": {
  "kernelspec": {
   "display_name": "Python 3",
   "language": "python",
   "name": "python3"
  },
  "language_info": {
   "codemirror_mode": {
    "name": "ipython",
    "version": 3
   },
   "file_extension": ".py",
   "mimetype": "text/x-python",
   "name": "python",
   "nbconvert_exporter": "python",
   "pygments_lexer": "ipython3",
   "version": "3.11.1"
  },
  "orig_nbformat": 4
 },
 "nbformat": 4,
 "nbformat_minor": 2
}
